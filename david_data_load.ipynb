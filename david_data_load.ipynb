{
 "cells": [
  {
   "cell_type": "code",
   "execution_count": 1,
   "id": "c430c7c7-58e6-49b2-babe-d3dd197995c2",
   "metadata": {},
   "outputs": [],
   "source": [
    "import requests\n",
    "import pandas as pd\n",
    "import json\n",
    "import csv\n",
    "import shutil\n",
    "import os"
   ]
  },
  {
   "cell_type": "code",
   "execution_count": 2,
   "id": "a1aec90b-385e-4a98-b020-76181d0551d7",
   "metadata": {},
   "outputs": [],
   "source": [
    "# Function that pulls metadata for datasets\n",
    "def get_find_datasets(url, key_word):\n",
    "    payments_datasets = [['dataset', 'dataset_id','download_url']]\n",
    "    r = requests.get(url).json()\n",
    "\n",
    "    for i in r:\n",
    "        if (dict(i)['title'][:4] >= '2020') & (key_word in dict(i)['title']):\n",
    "            payments_datasets.append([dict(i)['title'], \n",
    "                                      dict(i)['identifier'], \n",
    "                                     i['distribution'][0]['data']['downloadURL']])\n",
    "    return payments_datasets\n"
   ]
  },
  {
   "cell_type": "code",
   "execution_count": 3,
   "id": "308ecaac-8e3a-4e67-bbff-7a0d93e46951",
   "metadata": {},
   "outputs": [],
   "source": [
    "def download_files(url, filename):\n",
    "    # NOTE the stream=True parameter below\n",
    "    with requests.get(url, stream=True) as r:\n",
    "        r.raise_for_status()\n",
    "        with open(filename, 'wb') as f:\n",
    "            for chunk in r.iter_content(chunk_size=None):\n",
    "                if chunk: \n",
    "                    f.write(chunk)\n",
    "    return filename"
   ]
  },
  {
   "cell_type": "code",
   "execution_count": 6,
   "id": "a97944a8-1eaa-4b38-b70f-c9bf3c61f819",
   "metadata": {},
   "outputs": [],
   "source": [
    "# URL for dataset metadata. Need to pull the metadata first to get the download url for each dataset\n",
    "url = 'https://openpaymentsdata.cms.gov/api/1/metastore/schemas/dataset/items?show-reference-ids'\n",
    "keyword = 'Payment Data'\n",
    "\n",
    "dataset_info = get_find_datasets(url, keyword)\n"
   ]
  },
  {
   "cell_type": "code",
   "execution_count": 8,
   "id": "2857e8ac-5f44-4903-9e57-9e41959c5c93",
   "metadata": {},
   "outputs": [
    {
     "name": "stdout",
     "output_type": "stream",
     "text": [
      "https://download.cms.gov/openpayments/PGYR20_P012023/OP_DTL_GNRL_PGYR2020_P01202023.csv\n",
      "Downloading data/2020_general_payment_data.csv.\n",
      "Download DONE.\n",
      "\n",
      "https://download.cms.gov/openpayments/PGYR21_P012023/OP_DTL_RSRCH_PGYR2021_P01202023.csv\n",
      "Downloading data/2021_research_payment_data.csv.\n",
      "Download DONE.\n",
      "\n",
      "https://download.cms.gov/openpayments/PGYR20_P012023/OP_DTL_RSRCH_PGYR2020_P01202023.csv\n",
      "Downloading data/2020_research_payment_data.csv.\n",
      "Download DONE.\n",
      "\n",
      "https://download.cms.gov/openpayments/PGYR21_P012023/OP_DTL_OWNRSHP_PGYR2021_P01202023.csv\n",
      "Downloading data/2021_ownership_payment_data.csv.\n",
      "Download DONE.\n",
      "\n",
      "https://download.cms.gov/openpayments/PGYR20_P012023/OP_DTL_OWNRSHP_PGYR2020_P01202023.csv\n",
      "Downloading data/2020_ownership_payment_data.csv.\n",
      "Download DONE.\n",
      "\n",
      "https://download.cms.gov/openpayments/PGYR21_P012023/OP_DTL_GNRL_PGYR2021_P01202023.csv\n",
      "Downloading data/2021_general_payment_data.csv.\n",
      "Download DONE.\n",
      "\n"
     ]
    }
   ],
   "source": [
    "# CH\n",
    "\n",
    "file_save_location = 'data/'\n",
    "\n",
    "for i in dataset_info[1:]:\n",
    "    download_url = i[2]\n",
    "    filename = file_save_location+f'{i[0]}.csv'.replace(' ','_').lower()\n",
    "    dataset_id = i[1]\n",
    "    \n",
    "    print(download_url)\n",
    "    print(f'Downloading {filename}.')\n",
    "    #download_files(download_url, filename)\n",
    "    print(f'Download DONE.\\n')"
   ]
  },
  {
   "cell_type": "code",
   "execution_count": 9,
   "id": "579838cd-5bff-4ffd-8faa-681d5fe69c22",
   "metadata": {},
   "outputs": [
    {
     "name": "stdout",
     "output_type": "stream",
     "text": [
      "[NbConvertApp] Converting notebook david_data_load.ipynb to python\n",
      "[NbConvertApp] Writing 1905 bytes to david_data_load.py\n"
     ]
    }
   ],
   "source": [
    "!jupyter nbconvert --to python david_data_load.ipynb\n",
    "import re \n",
    "with open('david_data_load.py', 'r') as f_orig:\n",
    "    script = re.sub(r'# In\\[.*\\]:\\n','', f_orig.read())\n",
    "with open('david_data_load.py','w') as fh:\n",
    "    fh.write(script)"
   ]
  },
  {
   "cell_type": "code",
   "execution_count": null,
   "id": "905e1375-b20c-4b91-8ad3-c27e626d2c72",
   "metadata": {},
   "outputs": [],
   "source": []
  }
 ],
 "metadata": {
  "kernelspec": {
   "display_name": "Python 3 (ipykernel)",
   "language": "python",
   "name": "python3"
  },
  "language_info": {
   "codemirror_mode": {
    "name": "ipython",
    "version": 3
   },
   "file_extension": ".py",
   "mimetype": "text/x-python",
   "name": "python",
   "nbconvert_exporter": "python",
   "pygments_lexer": "ipython3",
   "version": "3.9.12"
  }
 },
 "nbformat": 4,
 "nbformat_minor": 5
}
