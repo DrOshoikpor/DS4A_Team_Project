{
 "cells": [
  {
   "cell_type": "code",
   "execution_count": 129,
   "id": "c430c7c7-58e6-49b2-babe-d3dd197995c2",
   "metadata": {},
   "outputs": [],
   "source": [
    "import requests\n",
    "import pandas as pd\n",
    "import json\n",
    "import csv\n",
    "import shutil\n",
    "import os"
   ]
  },
  {
   "cell_type": "code",
   "execution_count": 130,
   "id": "a1aec90b-385e-4a98-b020-76181d0551d7",
   "metadata": {},
   "outputs": [],
   "source": [
    "# Function that pulls metadata for datasets\n",
    "def get_find_datasets(url, key_word):\n",
    "    payments_datasets = [['dataset', 'dataset_id','download_url']]\n",
    "    r = requests.get(url).json()\n",
    "\n",
    "    for i in r:\n",
    "        if (dict(i)['title'][:4] >= '2020') & (key_word in dict(i)['title']):\n",
    "            payments_datasets.append([dict(i)['title'], \n",
    "                                      dict(i)['identifier'], \n",
    "                                     i['distribution'][0]['data']['downloadURL']])\n",
    "    return payments_datasets\n"
   ]
  },
  {
   "cell_type": "code",
   "execution_count": 131,
   "id": "308ecaac-8e3a-4e67-bbff-7a0d93e46951",
   "metadata": {},
   "outputs": [],
   "source": [
    "def download_files(url, filename):\n",
    "    print(filename)\n",
    "    # NOTE the stream=True parameter below\n",
    "    with requests.get(url, stream=True) as r:\n",
    "        r.raise_for_status()\n",
    "        with open(filename, 'wb') as f:\n",
    "            for chunk in r.iter_content(chunk_size=None): # 8192\n",
    "                # If you have chunk encoded response uncomment if\n",
    "                # and set chunk_size parameter to None.\n",
    "                if chunk: \n",
    "                    f.write(chunk)\n",
    "    return local_filename"
   ]
  },
  {
   "cell_type": "code",
   "execution_count": 132,
   "id": "a97944a8-1eaa-4b38-b70f-c9bf3c61f819",
   "metadata": {},
   "outputs": [],
   "source": [
    "url = 'https://openpaymentsdata.cms.gov/api/1/metastore/schemas/dataset/items?show-reference-ids'\n",
    "keyword = 'Payment Data'\n",
    "\n",
    "dataset_info = get_find_datasets(url, keyword)\n"
   ]
  },
  {
   "cell_type": "code",
   "execution_count": 134,
   "id": "2857e8ac-5f44-4903-9e57-9e41959c5c93",
   "metadata": {},
   "outputs": [
    {
     "name": "stdout",
     "output_type": "stream",
     "text": [
      "data/2020_general_payment_data.csv\n",
      "data/2021_research_payment_data.csv\n",
      "data/2020_research_payment_data.csv\n",
      "data/2021_ownership_payment_data.csv\n",
      "data/2020_ownership_payment_data.csv\n",
      "data/2021_general_payment_data.csv\n"
     ]
    }
   ],
   "source": [
    "url = 'https://openpaymentsdata.cms.gov/api/1/metastore/schemas/dataset/items/'\n",
    "file_save_location = 'data/'\n",
    "\n",
    "for i in dataset_info[1:]:\n",
    "    download_url = i[2]\n",
    "    filename = file_save_location+f'{i[0]}.csv'.replace(' ','_').lower()\n",
    "    dataset_id = i[1]\n",
    "    \n",
    "    download_files(download_url, filename)"
   ]
  },
  {
   "cell_type": "code",
   "execution_count": null,
   "id": "9f15ec27-7a24-45d9-a857-df4d2a2f50dd",
   "metadata": {},
   "outputs": [],
   "source": []
  },
  {
   "cell_type": "code",
   "execution_count": null,
   "id": "579838cd-5bff-4ffd-8faa-681d5fe69c22",
   "metadata": {},
   "outputs": [],
   "source": []
  },
  {
   "cell_type": "code",
   "execution_count": null,
   "id": "f8cb3314-961f-4cf5-8dff-4717d0d2bbe5",
   "metadata": {},
   "outputs": [],
   "source": []
  },
  {
   "cell_type": "code",
   "execution_count": null,
   "id": "135b46fd-d47a-4fec-8292-e79eb2452990",
   "metadata": {},
   "outputs": [],
   "source": []
  },
  {
   "cell_type": "code",
   "execution_count": null,
   "id": "21c1f7ed-bb1e-4c91-a1e8-5bc8f653dd5d",
   "metadata": {},
   "outputs": [],
   "source": []
  },
  {
   "cell_type": "code",
   "execution_count": null,
   "id": "c509a83c-d37c-47e3-834d-259e6f2d27e5",
   "metadata": {},
   "outputs": [],
   "source": []
  },
  {
   "cell_type": "code",
   "execution_count": null,
   "id": "d949539b-cbec-4b70-9eac-42dcdbde796d",
   "metadata": {},
   "outputs": [],
   "source": []
  },
  {
   "cell_type": "code",
   "execution_count": null,
   "id": "ea32b85f-29d4-4c6a-9108-d536548ed59a",
   "metadata": {},
   "outputs": [],
   "source": []
  }
 ],
 "metadata": {
  "kernelspec": {
   "display_name": "Python 3 (ipykernel)",
   "language": "python",
   "name": "python3"
  },
  "language_info": {
   "codemirror_mode": {
    "name": "ipython",
    "version": 3
   },
   "file_extension": ".py",
   "mimetype": "text/x-python",
   "name": "python",
   "nbconvert_exporter": "python",
   "pygments_lexer": "ipython3",
   "version": "3.9.12"
  }
 },
 "nbformat": 4,
 "nbformat_minor": 5
}
